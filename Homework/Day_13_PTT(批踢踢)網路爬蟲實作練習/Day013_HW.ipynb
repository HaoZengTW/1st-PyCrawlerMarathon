{
 "cells": [
  {
   "cell_type": "markdown",
   "metadata": {},
   "source": [
    "# PTT 網路爬蟲實作練習\n",
    "\n",
    "\n",
    "* 能夠利用 Request + BeatifulSour 撰寫爬蟲，並存放到合適的資料結構\n"
   ]
  },
  {
   "cell_type": "markdown",
   "metadata": {},
   "source": [
    "## 作業目標\n",
    "\n",
    "根據範例 ，完成以下問題：\n",
    "\n",
    "* ① 印出最新文章的「作者」「標題」「時間」\n",
    "* ② 印出第一頁所有文章的「作者」「標題」「時間」\n"
   ]
  },
  {
   "cell_type": "markdown",
   "metadata": {},
   "source": [
    "### ① 印出最新文章的「作者」「標題」「時間」"
   ]
  },
  {
   "cell_type": "code",
   "execution_count": 1,
   "metadata": {},
   "outputs": [],
   "source": [
    "import requests\n",
    "from bs4 import BeautifulSoup"
   ]
  },
  {
   "cell_type": "code",
   "execution_count": 4,
   "metadata": {},
   "outputs": [],
   "source": [
    "url = 'https://www.ptt.cc/bbs/NBA/index.html'\n",
    "d = requests.get(url)\n",
    "soup = BeautifulSoup(d.text,'html.parser')"
   ]
  },
  {
   "cell_type": "code",
   "execution_count": 13,
   "metadata": {},
   "outputs": [
    {
     "name": "stdout",
     "output_type": "stream",
     "text": [
      "作者:  Rambo ,時間:  12/16 \n",
      "[情報] ★今日排名(2019.12.16)★\n",
      "\n"
     ]
    }
   ],
   "source": [
    "i = soup.find(class_='r-ent')\n",
    "print('作者: ', i.find(class_='author').text, ',時間: ', i.find(class_='date').text,  i.find(class_='title').text)"
   ]
  },
  {
   "cell_type": "markdown",
   "metadata": {},
   "source": [
    "### ② 印出第一頁所有文章的「作者」「標題」「時間」"
   ]
  },
  {
   "cell_type": "code",
   "execution_count": 12,
   "metadata": {},
   "outputs": [
    {
     "name": "stdout",
     "output_type": "stream",
     "text": [
      "作者:  Rambo ,時間:  12/16 \n",
      "[情報] ★今日排名(2019.12.16)★\n",
      "\n",
      "作者:  MyohMy ,時間:  12/16 \n",
      "Re: [情報] 真的很難！格林賽後爆粗口：從各個角度來\n",
      "\n",
      "作者:  bbbyes123 ,時間:  12/16 \n",
      "[新聞] 尼克想挖暴龍總管 外媒曝至少需2個首輪籤\n",
      "\n",
      "作者:  Pixis ,時間:  12/16 \n",
      "Re: [新聞] 3度遭熱火禁賽 威斯特飯碗恐不保\n",
      "\n",
      "作者:  manuginobii ,時間:  12/16 \n",
      "[情報] Odom賽後到湖人更衣室:準備奪冠慶典吧\n",
      "\n",
      "作者:  kyle86362 ,時間:  12/16 \n",
      "[新聞] 不滿贏球內容 湖人主帥：後2場這樣打穩輸\n",
      "\n",
      "作者:  s27052705 ,時間:  12/16 \n",
      "[情報] 永不凋零！ Rose本賽季每36分鐘數據超其\n",
      "\n",
      "作者:  thnlkj0665 ,時間:  12/16 \n",
      "[情報] 灰狼隊想要再補強控衛戰力\n",
      "\n",
      "作者:  loris96083 ,時間:  12/17 \n",
      "[討論] 今天湖人和老鷹的一個play\n",
      "\n",
      "作者:  VeryGoodBoy ,時間:  12/17 \n",
      "[外絮] Gentry:把Ball放替補是希望增加球的流動\n",
      "\n",
      "作者:  Rambo ,時間:  12/17 \n",
      "[Live] 巫師 @ 活塞\n",
      "\n",
      "作者:  Maxwell5566 ,時間:  12/17 \n",
      "[情報] 上周東西區最佳球員：Adebayo, James\n",
      "\n",
      "作者:  Rambo ,時間:  12/17 \n",
      "[Live] 騎士 @ 暴龍\n",
      "\n",
      "作者:  Rambo ,時間:  12/17 \n",
      "[Live] 馬刺 @ 火箭\n",
      "\n",
      "作者:  Rambo ,時間:  12/17 \n",
      "[Live] 獨行俠 @ 公鹿\n",
      "\n",
      "作者:  thnlkj0665 ,時間:  12/17 \n",
      "[Live] 熱火 @ 灰熊\n",
      "\n",
      "作者:  nwd4e9cd ,時間:  12/17 \n",
      "[情報] 19-20賽季Tech排名\n",
      "\n",
      "作者:  sezna ,時間:  12/17 \n",
      "[情報] 勇士官方發佈近十年經典鏡頭影片無KD\n",
      "\n",
      "作者:  Vedan ,時間:   5/24 \n",
      "[公告] 板規v6.7\n",
      "\n",
      "作者:  Vedan ,時間:   6/24 \n",
      "[公告] 樂透取消及未來不再開啟樂透\n",
      "\n",
      "作者:  qazwsx879345 ,時間:  10/25 \n",
      "[公告] 版主上任相關事項 \n",
      "\n",
      "作者:  JerroLi ,時間:  11/29 \n",
      "[情報] SEASON Schedule 賽程 December 19–20\n",
      "\n",
      "作者:  dragon803 ,時間:  12/16 \n",
      "[公告] 是否禁止記者鄭廷瑋文章投票開始\n",
      "\n"
     ]
    }
   ],
   "source": [
    "for i in soup.find_all(class_='r-ent'):\n",
    "    print('作者: ', i.find(class_='author').text, ',時間: ', i.find(class_='date').text,  i.find(class_='title').text)"
   ]
  },
  {
   "cell_type": "markdown",
   "metadata": {},
   "source": [
    "### ③ 試著爬爬看其他版的文章"
   ]
  },
  {
   "cell_type": "code",
   "execution_count": 19,
   "metadata": {},
   "outputs": [],
   "source": [
    "url = 'https://www.ptt.cc/bbs/sex/index.html'\n",
    "d = requests.get(url, cookies={'over18': '1'})\n",
    "soup = BeautifulSoup(d.text,'html.parser')"
   ]
  },
  {
   "cell_type": "code",
   "execution_count": 20,
   "metadata": {},
   "outputs": [
    {
     "name": "stdout",
     "output_type": "stream",
     "text": [
      "作者:  yoyoboys1335 ,時間:  12/16 \n",
      "Re: [討論] 臉跟身材哪個比較重要\n",
      "\n",
      "作者:  goodmood ,時間:  12/16 \n",
      "[公告] ChemAce / a0919414591水桶\n",
      "\n",
      "作者:  Fant1408 ,時間:  12/16 \n",
      "[討論] 低卡和ptt西斯終於都被swag打趴\n",
      "\n",
      "作者:  Friend5566 ,時間:  12/16 \n",
      "[新聞] 睡到半夜下面被含住…變態男室友起訴\n",
      "\n",
      "作者:  pttsex ,時間:  12/16 \n",
      "[閒聊] 對象跟持久度的差異 加映 馬德里驚嚇之旅\n",
      "\n",
      "作者:  pttsex ,時間:  12/16 \n",
      "[心得] 吉原素人主打泡泡浴初體驗\n",
      "\n",
      "作者:  pttsex ,時間:  12/16 \n",
      "[認真] 跟男生床上不合 求助\n",
      "\n",
      "作者:  pttsex ,時間:  12/16 \n",
      "[認真] 讓女生高潮的教學或線上資源\n",
      "\n",
      "作者:  pttsex ,時間:  12/16 \n",
      "[認真] 請問大尺吋肛門拉珠使用的訣竅\n",
      "\n",
      "作者:  tomorning ,時間:  12/17 \n",
      "[心得] 上輩子燒好香換來ㄉ好砲友\n",
      "\n",
      "作者:  deepdish ,時間:  12/17 \n",
      "[新聞] 私下傳Ａ片給女員工還在車內硬上 色老闆\n",
      "\n",
      "作者:  FaLiTP ,時間:  12/17 \n",
      "[閒聊] 捆綁可以助興\n",
      "\n",
      "作者:  iamrollita ,時間:  12/17 \n",
      "[創作] 好寶寶獎章\n",
      "\n",
      "作者:  s9221320 ,時間:  12/17 \n",
      "[閒聊] 跟上班地點認識的台妹嘿咻\n",
      "\n",
      "作者:  jmegak ,時間:  12/17 \n",
      "Re: [認真] 跟男生床上不合 求助\n",
      "\n",
      "作者:  koalanisss ,時間:  12/17 \n",
      "[討論] 上班的時候在辦公室想要\n",
      "\n",
      "作者:  FallRed ,時間:  10/16 \n",
      "[公告] 西斯板規 Ver 6.2.9\n",
      "\n",
      "作者:  FallRed ,時間:   7/29 \n",
      "Fw: [公告] 請使用者多加注意我國保護兒少的法令\n",
      "\n",
      "作者:  Assisi ,時間:  11/25 \n",
      "[公告] 2019 冬季徵文 \n",
      "\n",
      "作者:  Assisi ,時間:  12/01 \n",
      "[公告] 2019 拾貳月 西斯置底閒聊區\n",
      "\n"
     ]
    }
   ],
   "source": [
    "for i in soup.find_all(class_='r-ent'):\n",
    "    print('作者: ', i.find(class_='author').text, ',時間: ', i.find(class_='date').text,  i.find(class_='title').text)"
   ]
  },
  {
   "cell_type": "code",
   "execution_count": null,
   "metadata": {},
   "outputs": [],
   "source": []
  }
 ],
 "metadata": {
  "kernelspec": {
   "display_name": "Python 3",
   "language": "python",
   "name": "python3"
  },
  "language_info": {
   "codemirror_mode": {
    "name": "ipython",
    "version": 3
   },
   "file_extension": ".py",
   "mimetype": "text/x-python",
   "name": "python",
   "nbconvert_exporter": "python",
   "pygments_lexer": "ipython3",
   "version": "3.7.3"
  }
 },
 "nbformat": 4,
 "nbformat_minor": 2
}
